{
 "cells": [
  {
   "cell_type": "code",
   "execution_count": null,
   "metadata": {},
   "outputs": [],
   "source": [
    "# Load necessary libraries\n",
    "library(caret)\n",
    "library(randomForest)\n",
    "library(rpart)"
   ]
  },
  {
   "cell_type": "code",
   "execution_count": null,
   "metadata": {},
   "outputs": [],
   "source": [
    "# Set a seed for reproducibility\n",
    "set.seed(123)\n",
    "\n",
    "# Load the data\n",
    "training <- read.csv(\"C:/Users/zaidi/Desktop/pml-training.csv\")\n",
    "testing <- read.csv(\"C:/Users/zaidi/Desktop/pml-testing.csv\")"
   ]
  },
  {
   "cell_type": "code",
   "execution_count": null,
   "metadata": {},
   "outputs": [],
   "source": [
    "# Preprocess the data \n",
    "# Clean the data, handle missing values, remove near-zero variance predictors\n",
    "preProcessRange <- preProcess(training, method=c(\"center\", \"scale\", \"nzv\"))\n",
    "\n",
    "# Apply transformation to both training and testing set\n",
    "trainingProcessed <- predict(preProcessRange, training)\n",
    "testingProcessed <- predict(preProcessRange, testing)"
   ]
  },
  {
   "cell_type": "code",
   "execution_count": null,
   "metadata": {},
   "outputs": [],
   "source": [
    "# Split the training data into training and validation sets\n",
    "inTrain <- createDataPartition(trainingProcessed$classe, p = 0.75, list = FALSE)\n",
    "trainingSet <- trainingProcessed[inTrain, ]\n",
    "validationSet <- trainingProcessed[-inTrain, ]"
   ]
  },
  {
   "cell_type": "code",
   "execution_count": null,
   "metadata": {},
   "outputs": [],
   "source": [
    "# Train a model on the training set\n",
    "# Using random forest for demonstration; you can try different models\n",
    "model <- randomForest(classe ~ ., data=trainingSet)\n",
    "\n",
    "# Cross-validation to estimate the out-of-sample error\n",
    "control <- trainControl(method=\"cv\", number=10)\n",
    "cvModel <- train(classe ~ ., data=trainingSet, method=\"rf\", trControl=control)"
   ]
  },
  {
   "cell_type": "code",
   "execution_count": null,
   "metadata": {},
   "outputs": [],
   "source": [
    "# Predict and evaluate the model on the validation set\n",
    "predictions <- predict(cvModel, newdata=validationSet)\n",
    "confusionMatrix(predictions, validationSet$classe)\n",
    "\n",
    "# Predict on the actual testing set\n",
    "finalPredictions <- predict(model, newdata=testingProcessed)\n",
    "\n",
    "# Instead of writing to a file, print the predictions to the console\n",
    "print(finalPredictions)\n"
   ]
  }
 ],
 "metadata": {
  "language_info": {
   "name": "python"
  }
 },
 "nbformat": 4,
 "nbformat_minor": 2
}
